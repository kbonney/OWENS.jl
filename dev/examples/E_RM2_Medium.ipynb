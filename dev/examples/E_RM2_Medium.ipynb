{
 "cells": [
  {
   "cell_type": "markdown",
   "source": [
    "# Marine Hydrokinetic RM2\n",
    "\n",
    "In this example we use the OWENS scripting method to model the RM2 turbine,\n",
    "based on “Experimental Study of a Reference Model Vertical-Axis Cross-Flow Turbine”, 2016, Bachant et al.\n",
    "While the windio modeling option based on input yaml files is also included in the OWENS.jl/examples directory,\n",
    "The scripting method enable much more flexibility and the ability to add detailed comments on the setup and use.\n",
    "Note that the documentation contains an API reference for nearly all of the functions where more details can be found\n",
    "also accessed via the julia REPL by loading the module of interest, and: ? ModuleName.functionname()\n",
    "\n",
    "![](../assets/RM2_wake.png)"
   ],
   "metadata": {}
  },
  {
   "cell_type": "markdown",
   "source": [
    "Load in all of the modules that we'll be using, and prettify the plotting options"
   ],
   "metadata": {}
  },
  {
   "outputs": [],
   "cell_type": "code",
   "source": [
    "import OWENS\n",
    "import OWENSAero\n",
    "import DelimitedFiles\n",
    "using Statistics:mean\n",
    "using Test\n",
    "import FLOWMath\n",
    "\n",
    "# import PyPlot\n",
    "# PyPlot.pygui(true)\n",
    "# PyPlot.rc(\"figure\", figsize=(4.5, 3))\n",
    "# PyPlot.rc(\"font\", size=10.0)\n",
    "# PyPlot.rc(\"lines\", linewidth=1.5)\n",
    "# PyPlot.rc(\"lines\", markersize=3.0)\n",
    "# PyPlot.rc(\"legend\", frameon=false)\n",
    "# PyPlot.rc(\"axes.spines\", right=false, top=false)\n",
    "# PyPlot.rc(\"figure.subplot\", left=.18, bottom=.17, top=0.9, right=.9)\n",
    "# PyPlot.rc(\"figure\",max_open_warning=500)\n",
    "# plot_cycle=[\"#348ABD\", \"#A60628\", \"#009E73\", \"#7A68A6\", \"#D55E00\", \"#CC79A7\"]\n",
    "\n",
    "# path = runpath = splitdir(@__FILE__)[1]\n",
    "runpath = path = \"/home/runner/work/OWENS.jl/OWENS.jl/examples/literate\" # to run locally, change to splitdir(@__FILE__)[1]\n",
    "\n",
    "nothing"
   ],
   "metadata": {},
   "execution_count": 1
  },
  {
   "cell_type": "markdown",
   "source": [
    "Here we set the parametric inputs to the preprocessing and run methods.  Defaults are used otherwise\n",
    "Note that for the OpenFAST coupling, such as adi_lib, setting these to nothing will force the program\n",
    "to use the precompiled binaries that are part of the OWENS installation.\n",
    "Again, please refer the to API reference for more detailed options of inputs, but of note is that we are\n",
    "running with AeroModel = \"AD\" which will automatically generate all of the AeroDyn files necessary to run the\n",
    "structural definition generated here.  Also note that this scripting method relys on the NuMAD formatted CSV files\n",
    "for the composite layup that gets run through PreComp.jl to calculate the sectional properties. Finally, this\n",
    "has been shortened to enable automated deployment, update as desired."
   ],
   "metadata": {}
  },
  {
   "outputs": [],
   "cell_type": "code",
   "source": [
    "turbineType = \"H-VAWT\" # turbine type, for the automatic meshing\n",
    "Vinf = 1.2 # inflow velocity\n",
    "TSRrange = [3.0]#LinRange(1.0,5.0,2) range of tip speed ratios\n",
    "Nslices = 20 # vertical discretizations if DMS or AC aero model\n",
    "ntheta = 30 # azimuthal discretizations if DMS or AC aero model\n",
    "structuralModel = \"TNB\"\n",
    "ntelem = 100 # tower elements\n",
    "nbelem = 30 # blade elements\n",
    "nselem = 10 # strut elements\n",
    "ifw = false # use inflow wind, if DMS or AC aero model\n",
    "numTS = 20#321 # number of simulation time steps\n",
    "delta_t = 0.01 # simulation time step spacing\n",
    "adi_lib = nothing#\"$path/../../../../openfast/build/modules/aerodyn/libaerodyn_inflow_c_binding\"\n",
    "adi_rootname = \"$path/RM2\" # path and name that all the aerodyn files are saved with\n",
    "VTKsaveName = \"$path/vtk/RM2_medium\" # path and name that all OWENS VTK files are saved with\n",
    "tsave_idx = 1:1:numTS-1 #you don't have to save every timestep in VTK\n",
    "ifw_libfile = nothing#\"$path/../../../openfast/build/modules/inflowwind/libifw_c_binding\"\n",
    "fluid_density = 1000.0\n",
    "fluid_dyn_viscosity = 1.792E-3\n",
    "AddedMass_Coeff_Ca = 1.0 #For structural side added mass\n",
    "Aero_Buoyancy_Active = true # For buoyancy forcing, handled by the OWENSAero module\n",
    "AeroModel = \"AD\"\n",
    "verbosity = 1 # verbosity level where higher is more\n",
    "if AeroModel==\"AD\"\n",
    "    AD15On = true\n",
    "else\n",
    "    AD15On = false\n",
    "end\n",
    "\n",
    "eta = 0.5 # blade-strut mount point ratio, fraction from leading edge\n",
    "number_of_blades = 3 # number of blades\n",
    "towerHeight = 0.2165 # height of the tower past the blades\n",
    "Blade_Height = 0.807 # height of the blades\n",
    "Blade_Radius = 0.5375 # radius of the turbine\n",
    "\n",
    "NuMad_geom_xlscsv_file_twr = \"$path/data_RM2/TowerGeom.csv\" #\n",
    "NuMad_mat_xlscsv_file_twr = \"$path/data_RM2/TowerMaterials.csv\"\n",
    "NuMad_geom_xlscsv_file_bld = \"$path/data_RM2/GeomBlades$AeroModel.csv\"\n",
    "NuMad_mat_xlscsv_file_bld = \"$path/data_RM2/materials_NuMAD.csv\"\n",
    "NuMad_geom_xlscsv_file_strut = \"$path/data_RM2/GeomStruts$AeroModel.csv\"\n",
    "NuMad_mat_xlscsv_file_strut = \"$path/data_RM2/materials_NuMAD.csv\"\n",
    "\n",
    "nothing"
   ],
   "metadata": {},
   "execution_count": 2
  },
  {
   "cell_type": "markdown",
   "source": [
    "For this simulation, using aerodyn (\"AD\"), we will use a turbulent inflow file, indicated as WindType 3\n",
    "We can let the built in OWENS library for turbsim generate the file as so. Modify the inp file to your liking and\n",
    "comment out the run command to run your own with more time"
   ],
   "metadata": {}
  },
  {
   "outputs": [
    {
     "output_type": "execute_result",
     "data": {
      "text/plain": "\"/home/runner/work/OWENS.jl/OWENS.jl/examples/literate/data_RM2/3mx3m1pt2msNTM.bts\""
     },
     "metadata": {},
     "execution_count": 3
    }
   ],
   "cell_type": "code",
   "source": [
    "WindType = 3\n",
    "windINPfilename = \"$path/data_RM2/3mx3m1pt2msNTM.bts\""
   ],
   "metadata": {},
   "execution_count": 3
  },
  {
   "cell_type": "markdown",
   "source": [
    "run(`$(OWENS.OWENSOpenFASTWrappers.turbsim()) $(windINPfilename[1:end-3])inp`)"
   ],
   "metadata": {}
  },
  {
   "outputs": [],
   "cell_type": "code",
   "source": [
    "nothing"
   ],
   "metadata": {},
   "execution_count": 4
  },
  {
   "cell_type": "markdown",
   "source": [
    "Here we would set up to run multiple different inflow conditions, and we can\n",
    "allow the preprocessing to re-run each time since it only takes a few seconds.\n",
    "The for loop is commented out to enable this example to be parsed by the literate\n",
    "package that auto generates the docs."
   ],
   "metadata": {}
  },
  {
   "outputs": [
    {
     "name": "stdout",
     "output_type": "stream",
     "text": [
      "63.958079456463985\n"
     ]
    }
   ],
   "cell_type": "code",
   "source": [
    "CP = zeros(length(TSRrange))\n",
    "mymesh = []\n",
    "myel = []\n",
    "system = []\n",
    "assembly = []\n",
    "sections = []\n",
    "myjoint = []\n",
    "pBC = []\n",
    "# for (iTSR,TSR) in enumerate(collect(TSRrange))\n",
    "TSR = TSRrange[1]\n",
    "iTSR = 1\n",
    "    global Vinf\n",
    "    global mymesh\n",
    "    global myel\n",
    "    global system\n",
    "    global assembly\n",
    "    global sections\n",
    "    global myjoint\n",
    "    global pBC\n",
    "\n",
    "    omega = Vinf/Blade_Radius*TSR\n",
    "    RPM = omega * 60 / (2*pi)\n",
    "\n",
    "    println(RPM)\n",
    "\n",
    "    nothing"
   ],
   "metadata": {},
   "execution_count": 5
  },
  {
   "cell_type": "markdown",
   "source": [
    "Here we run the OWENS preprocessing, which creates the beam mesh and joints, calculates the sectional properties\n",
    "maps the sectional properties to the elements.  It also sets up the aero module being used."
   ],
   "metadata": {}
  },
  {
   "outputs": [
    {
     "name": "stdout",
     "output_type": "stream",
     "text": [
      "┌ Warning: Mesh warning: two points are directly on top of one another, consider adjusting number of elements to space out the mesh\n",
      "└ @ OWENS ~/work/OWENS.jl/OWENS.jl/src/meshing_utilities.jl:361\n",
      "┌ Warning: Mesh warning: two points are directly on top of one another, consider adjusting number of elements to space out the mesh\n",
      "└ @ OWENS ~/work/OWENS.jl/OWENS.jl/src/meshing_utilities.jl:392\n",
      "Hub crossing at idx 3 and radially at -0.007499999999999993 with AD15 hub radius of 0.1\n",
      "Moving strut point from [-0.1,6.123233995736766e-18,0.6199998498604652] to [-0.1,6.123233995736766e-18,0.6199998498604652]\n",
      "Hub crossing at idx 3 and radially at -0.007499999999999993 with AD15 hub radius of 0.1\n",
      "Moving strut point from [0.04999999999999998,0.08660254037844388,0.6199998498604652] to [0.04999999999999998,0.08660254037844388,0.6199998498604652]\n",
      "Hub crossing at idx 3 and radially at -0.007499999999999993 with AD15 hub radius of 0.1\n",
      "Moving strut point from [0.05000000000000004,-0.08660254037844387,0.6199998498604652] to [0.05000000000000004,-0.08660254037844387,0.6199998498604652]\n",
      "Opening AeroDyn-Inflow library at: /home/runner/.julia/artifacts/40e731aa229ee668f59fa694053de285aeb6d77f/lib/libaerodyn_inflow_c_binding.so\n",
      "\n",
      " **************************************************************************************************\n",
      " AeroDyn-Inflow library\n",
      "\n",
      " Copyright (C) 2024 National Renewable Energy Laboratory\n",
      " Copyright (C) 2024 Envision Energy USA LTD\n",
      "\n",
      " This program is licensed under Apache License Version 2.0 and comes with ABSOLUTELY NO WARRANTY.\n",
      " See the \"LICENSE\" file distributed with this software for details.\n",
      " **************************************************************************************************\n",
      "\n",
      " AeroDyn-Inflow library-v2.5.0-3490-g24c05a74\n",
      " Compile Info:\n",
      "  - Compiler: GCC version 8.1.0\n",
      "  - Architecture: 64 bit\n",
      "  - Precision: double\n",
      "  - OpenMP: No\n",
      "  - Date: Nov  5 2024\n",
      "  - Time: 02:19:23\n",
      " Execution Info:\n",
      "  - Date: 04/02/2025\n",
      "  - Time: 16:14:02+0000\n",
      "\n",
      " Running ADI.\n",
      " Running AeroDyn.\n",
      " Running OLAF.\n",
      "  - Directory:         /home/runner/work/OWENS.jl/OWENS.jl/docs/src/examples\n",
      "  - RootName:          /home/runner/work/OWENS.jl/OWENS.jl/examples/literate/RM2.\n",
      "  - Reading advanced options for OLAF:\n",
      " [WARN] Line ignored: \"VERT2\"   DEFAULT      -10       30.   400     5.      5.     1     5.136    15.136  100\n",
      "  - OLAF regularization parameters (for wing 1):\n",
      "    WingReg (min/max) :   0.0897  0.0897\n",
      "    WakeReg (min/max) :   0.0897  0.0897\n",
      "    k = alpha delta nu:   0.0368\n",
      " Running InflowWind.\n",
      "\n",
      " Combined Blades Mass Breakout\n",
      "Aluminum_6061_T6 4.28499672900603 kg, 11.0 $/kg: $47.13496401906633\n",
      "Mithril 0.0 kg, 1.0e10 $/kg: $0.0\n",
      "\n",
      " Combined Struts Mass Breakout\n",
      "Aluminum_6061_T6 3.450250450673763 kg, 11.0 $/kg: $37.95275495741139\n",
      "Mithril 9.076000118627978e-10 kg, 1.0e10 $/kg: $9.076000118627977\n",
      "\n",
      "Tower Mass Breakout\n",
      "Aluminum_6061_T6 10.665043507335158 kg, 11.0 $/kg: $117.31547858068673\n",
      "\n",
      "Total Mass: 18.40029068792255 kg\n",
      "Total Material Cost Blades: $47.13496401906633\n",
      "Total Material Cost Struts: $47.028755076039374\n",
      "Total Material Cost Tower: $117.31547858068673\n",
      "Total Material Cost: $211.47919767579242\n"
     ]
    }
   ],
   "cell_type": "code",
   "source": [
    "    shapeZ = collect(LinRange(0,Blade_Height,Nslices+1))\n",
    "    helix_angle = 0.0#-pi/4\n",
    "    shapeX = cos.(shapeZ/maximum(shapeZ)*helix_angle).*Blade_Radius\n",
    "    shapeY = sin.(shapeZ/maximum(shapeZ)*helix_angle).*Blade_Radius\n",
    "\n",
    "    mymesh,myel,myort,myjoint,sectionPropsArray,mass_twr, mass_bld,\n",
    "    stiff_twr, stiff_bld,bld_precompinput,\n",
    "    bld_precompoutput,plyprops_bld,numadIn_bld,lam_U_bld,lam_L_bld,\n",
    "    twr_precompinput,twr_precompoutput,plyprops_twr,numadIn_twr,lam_U_twr,lam_L_twr,aeroForces,deformAero,\n",
    "    mass_breakout_blds,mass_breakout_twr,system,assembly,sections,AD15bldNdIdxRng, AD15bldElIdxRng = OWENS.setupOWENS(OWENSAero,path;\n",
    "        rho=fluid_density,\n",
    "        mu=fluid_dyn_viscosity,\n",
    "        Nslices,\n",
    "        ntheta,\n",
    "        RPM,\n",
    "        Vinf,\n",
    "        eta,\n",
    "        B=number_of_blades,\n",
    "        H = Blade_Height,\n",
    "        R = Blade_Radius,\n",
    "        shapeZ,\n",
    "        shapeX,\n",
    "        shapeY,\n",
    "        ifw,\n",
    "        WindType,\n",
    "        delta_t,\n",
    "        numTS,\n",
    "        adi_lib,\n",
    "        adi_rootname,\n",
    "        windINPfilename,\n",
    "        ifw_libfile,\n",
    "        NuMad_geom_xlscsv_file_twr,\n",
    "        NuMad_mat_xlscsv_file_twr,\n",
    "        NuMad_geom_xlscsv_file_bld,\n",
    "        NuMad_mat_xlscsv_file_bld,\n",
    "        NuMad_geom_xlscsv_file_strut,\n",
    "        NuMad_mat_xlscsv_file_strut,\n",
    "        Htwr_base=towerHeight,\n",
    "        Htwr_blds = Blade_Height+towerHeight,\n",
    "        ntelem,\n",
    "        nbelem,\n",
    "        nselem,\n",
    "        joint_type = 0,\n",
    "        strut_twr_mountpoint = [0.5],\n",
    "        strut_bld_mountpoint = [0.5],\n",
    "        AeroModel, #AD, DMS, AC\n",
    "        DynamicStallModel=\"BV\",\n",
    "        Aero_AddedMass_Active = false,\n",
    "        Aero_RotAccel_Active = false,\n",
    "        AddedMass_Coeff_Ca,\n",
    "        Aero_Buoyancy_Active,\n",
    "        verbosity,\n",
    "        meshtype = turbineType)\n",
    "\n",
    "    nothing"
   ],
   "metadata": {},
   "execution_count": 6
  },
  {
   "cell_type": "markdown",
   "source": [
    "PyPlot.figure()\n",
    "for idot = 1:length(sectionPropsArray[170].xaf)\n",
    "    PyPlot.scatter(sectionPropsArray[170].xaf[idot],sectionPropsArray[170].yaf[idot])\n",
    "    sleep(0.001)\n",
    "end"
   ],
   "metadata": {}
  },
  {
   "outputs": [],
   "cell_type": "code",
   "source": [
    "    # This plots the mesh and node numbering of the resulting mesh and overlays the joint connections\n",
    "\n",
    "    # PyPlot.figure()\n",
    "    # for icon = 1:length(mymesh.conn[:,1])\n",
    "    #     idx1 = mymesh.conn[icon,1]\n",
    "    #     idx2 = mymesh.conn[icon,2]\n",
    "    #     PyPlot.plot3D([mymesh.x[idx1],mymesh.x[idx2]],[mymesh.y[idx1],mymesh.y[idx2]],[mymesh.z[idx1],mymesh.z[idx2]],\"k.-\")\n",
    "    #     PyPlot.plot3D([1,1],[1,1],[1,1],\"k.-\")\n",
    "    #     PyPlot.text3D(mymesh.x[idx1].+rand()/30,mymesh.y[idx1].+rand()/30,mymesh.z[idx1].+rand()/30,\"$idx1\",ha=\"center\",va=\"center\")\n",
    "    # end\n",
    "    # for ijoint = 1:length(myjoint[:,1])\n",
    "    #     idx2 = Int(myjoint[ijoint,2])\n",
    "    #     idx1 = Int(myjoint[ijoint,3])\n",
    "    #     PyPlot.plot3D([mymesh.x[idx1],mymesh.x[idx2]],[mymesh.y[idx1],mymesh.y[idx2]],[mymesh.z[idx1],mymesh.z[idx2]],\"r.-\")\n",
    "    #     PyPlot.text3D(mymesh.x[idx1].+rand()/30,mymesh.y[idx1].+rand()/30,mymesh.z[idx1].+rand()/30,\"$idx1\",color=\"r\",ha=\"center\",va=\"center\")\n",
    "    #     PyPlot.text3D(mymesh.x[idx2].+rand()/30,mymesh.y[idx2].+rand()/30,mymesh.z[idx2].+rand()/30,\"$idx2\",color=\"r\",ha=\"center\",va=\"center\")\n",
    "    # end\n",
    "    # PyPlot.xlabel(\"x\")\n",
    "    # PyPlot.ylabel(\"y\")\n",
    "    # PyPlot.zlabel(\"z\")\n",
    "    # PyPlot.axis(\"equal\")\n",
    "\n",
    "    nothing"
   ],
   "metadata": {},
   "execution_count": 7
  },
  {
   "cell_type": "markdown",
   "source": [
    "Here we apply the boundary conditions.  For this case, the tower base node which is\n",
    "1 is constrained in all 6 degrees of freedom to have a displacement of 0, and the tower top is also constrained.\n",
    "You can change this displacement to allow for things like pretension, and you can apply boundary conditions to any node."
   ],
   "metadata": {}
  },
  {
   "outputs": [],
   "cell_type": "code",
   "source": [
    "    pBC = [1 1 0\n",
    "    1 2 0\n",
    "    1 3 0\n",
    "    1 4 0\n",
    "    1 5 0\n",
    "    1 6 0\n",
    "    AD15bldElIdxRng[1,2]-1 1 0\n",
    "    AD15bldElIdxRng[1,2]-1 2 0\n",
    "    AD15bldElIdxRng[1,2]-1 3 0\n",
    "    AD15bldElIdxRng[1,2]-1 4 0\n",
    "    AD15bldElIdxRng[1,2]-1 5 0]\n",
    "\n",
    "    nothing"
   ],
   "metadata": {},
   "execution_count": 8
  },
  {
   "cell_type": "markdown",
   "source": [
    "There are inputs for the overall coupled simulation, please see the api reference for specifics on all the options: ? OWENS.Inputs()"
   ],
   "metadata": {}
  },
  {
   "outputs": [],
   "cell_type": "code",
   "source": [
    "    tocp = [0.0;10.0; 1e6]\n",
    "    Omegaocp = [RPM; RPM; RPM]./60 #control inputs\n",
    "\n",
    "    tocp_Vinf = [0.0;10.0; 1e6]\n",
    "    Vinfocp = [Vinf;Vinf;Vinf]\n",
    "\n",
    "    inputs = OWENS.Inputs(;verbosity,analysisType = structuralModel,\n",
    "    tocp,\n",
    "    dataOutputFilename = \"./InitialDataOutputs_scripting.out\",\n",
    "    Omegaocp,\n",
    "    tocp_Vinf,\n",
    "    Vinfocp,\n",
    "    numTS,\n",
    "    delta_t,\n",
    "    AD15On,\n",
    "    aeroLoadsOn = 2,\n",
    "    MAXITER = 20)\n",
    "\n",
    "    nothing"
   ],
   "metadata": {},
   "execution_count": 9
  },
  {
   "cell_type": "markdown",
   "source": [
    "Then there are inputs for the finite element models, also, please see the api reference for specifics on the options"
   ],
   "metadata": {}
  },
  {
   "outputs": [],
   "cell_type": "code",
   "source": [
    "    FEAinputs = OWENS.FEAModel(;analysisType = structuralModel,\n",
    "    dataOutputFilename = \"./InitialDataOutputs_scripting.out\",\n",
    "    joint = myjoint,\n",
    "    platformTurbineConnectionNodeNumber = 1,\n",
    "    pBC,\n",
    "    nlOn = false,\n",
    "    gravityOn = [0,0,9.81], #positive since the turbine is upside down\n",
    "    numNodes = mymesh.numNodes,\n",
    "    RayleighAlpha = 0.05,\n",
    "    RayleighBeta = 0.05,\n",
    "    AddedMass_Coeff_Ca,\n",
    "    iterationType = \"DI\")\n",
    "\n",
    "    nothing"
   ],
   "metadata": {},
   "execution_count": 10
  },
  {
   "cell_type": "markdown",
   "source": [
    "Here is where we actually call the unsteady simulation and where owens pulls the aero and structural solutions together\n",
    "and propogates things in time. Note that for the sake of quickly deployable docs, a shortened simulation is conducted and the CP will not be correct"
   ],
   "metadata": {}
  },
  {
   "outputs": [
    {
     "name": "stdout",
     "output_type": "stream",
     "text": [
      "Running Unsteady\n",
      "Running in specified rotor speed mode\n",
      "\n",
      "\r5.3%┣██▎                                        ┫ 1/19 [00:00<Inf:Inf, InfGs/it]\n",
      " [INFO] FVW: Update States: reevaluation at the same starting time.  This will not print on\n",
      " subsequent occurences.\n",
      "\u001b[1A\r10.5%┣█████                                          ┫ 2/19 [00:04<01:00, 4s/it]\n",
      "\u001b[1A\r15.8%┣███████▍                                       ┫ 3/19 [00:07<00:53, 3s/it]\n",
      "\u001b[1A\r21.1%┣██████████                                     ┫ 4/19 [00:09<00:45, 3s/it]\n",
      "\u001b[1A\r26.3%┣████████████▍                                  ┫ 5/19 [00:14<00:48, 3s/it]\n",
      "\u001b[1A\r31.6%┣██████████████▉                                ┫ 6/19 [00:19<00:49, 4s/it]\n",
      "\u001b[1A\r36.8%┣█████████████████▎                             ┫ 7/19 [00:23<00:46, 4s/it]\n",
      "┌ Warning: Maximum Iterations Met Breaking Iteration Loop\n",
      "└ @ OWENS ~/work/OWENS.jl/OWENS.jl/src/Unsteady_Land.jl:523\n",
      "\u001b[1A\r42.1%┣███████████████████▉                           ┫ 8/19 [00:31<00:49, 4s/it]\n",
      "┌ Warning: Maximum Iterations Met Breaking Iteration Loop\n",
      "└ @ OWENS ~/work/OWENS.jl/OWENS.jl/src/Unsteady_Land.jl:523\n",
      "\u001b[1A\r47.4%┣██████████████████████▎                        ┫ 9/19 [00:39<00:49, 5s/it]\n",
      "\u001b[1A\r52.6%┣████████████████████████▏                     ┫ 10/19 [00:45<00:45, 5s/it]\n",
      "\u001b[1A\r57.9%┣██████████████████████████▋                   ┫ 11/19 [00:48<00:38, 5s/it]\n",
      "\u001b[1A\r63.2%┣█████████████████████████████                 ┫ 12/19 [00:53<00:34, 5s/it]\n",
      "\u001b[1A\r68.4%┣███████████████████████████████▌              ┫ 13/19 [00:57<00:28, 5s/it]\n",
      "\u001b[1A\r73.7%┣██████████████████████████████████            ┫ 14/19 [00:58<00:22, 4s/it]\n",
      "\u001b[1A\r78.9%┣████████████████████████████████████▎         ┫ 15/19 [00:59<00:17, 4s/it]\n",
      "\u001b[1A\r84.2%┣██████████████████████████████████████▊       ┫ 16/19 [01:01<00:12, 4s/it]\n",
      "\u001b[1A\r89.5%┣█████████████████████████████████████████▏    ┫ 17/19 [01:07<00:08, 4s/it]\n",
      "\u001b[1A\r94.7%┣███████████████████████████████████████████▋  ┫ 18/19 [01:11<00:04, 4s/it]\n",
      "\u001b[1A\r100.0%┣█████████████████████████████████████████████┫ 19/19 [01:12<00:00, 4s/it]\n",
      "Simulation Complete.\n",
      " >>> FINAL WRITE\n"
     ]
    }
   ],
   "cell_type": "code",
   "source": [
    "    println(\"Running Unsteady\")\n",
    "    t, aziHist,OmegaHist,OmegaDotHist,gbHist,gbDotHist,gbDotDotHist,FReactionHist,\n",
    "    FTwrBsHist,genTorque,genPower,torqueDriveShaft,uHist,uHist_prp,epsilon_x_hist,epsilon_y_hist,\n",
    "    epsilon_z_hist,kappa_x_hist,kappa_y_hist,kappa_z_hist,FPtfmHist,FHydroHist,FMooringHist,\n",
    "    topFexternal_hist,rbDataHist = OWENS.Unsteady_Land(inputs;system,assembly,\n",
    "    topModel=FEAinputs,topMesh=mymesh,topEl=myel,aero=aeroForces,deformAero,turbsimfile = windINPfilename)\n",
    "\n",
    "    area = Blade_Height*2*Blade_Radius\n",
    "    full_rev_N_timesteps = round(Int,RPM/60/delta_t)\n",
    "    if full_rev_N_timesteps>numTS\n",
    "        idx_start = 1\n",
    "    else\n",
    "        idx_start = numTS-full_rev_N_timesteps\n",
    "    end\n",
    "    CP[iTSR] = mean(FReactionHist[idx_start:end,6].*OmegaHist[idx_start:end]*2*pi)/(0.5*fluid_density*mean(Vinfocp)^3*area)\n",
    "    TSR = mean(OmegaHist*2*pi*Blade_Radius/mean(Vinfocp))\n",
    "    ReD = fluid_density*mean(Vinfocp)*Blade_Radius*2/fluid_dyn_viscosity\n",
    "\n",
    "    nothing"
   ],
   "metadata": {},
   "execution_count": 11
  },
  {
   "cell_type": "markdown",
   "source": [
    "We can output vtk files viewable in paraview.  Here it is done for each time step and shows the\n",
    "deformations.  Additionaly, there is a method to input custom values and have them show up on the vtk surface mesh\n",
    "for example, strain, or reaction force, etc.  This is described in more detail in the api reference for the function\n",
    "This helper function looks through all the loads and picks out the worst case safety factor in each of the stacks of composite lamina\n",
    "it also calculates analytical simply supported buckling safety factors"
   ],
   "metadata": {}
  },
  {
   "outputs": [
    {
     "name": "stdout",
     "output_type": "stream",
     "text": [
      "Composite Ultimate and Buckling Safety Factors\n",
      "\n",
      "\n",
      "UPPER BLADE SURFACE\n",
      "Minimum Safety Factor on Surface: 70.8249642284895\n",
      "At time 0.07s at composite station 3 of 5 at lam 4 of 6\n",
      "Maximum Damage per hr: 7.71409078545011e-16\n",
      "At composite station 3 of 5 at lam 4 of 6\n",
      "\n",
      "\n",
      "LOWER BLADE SURFACE\n",
      "Minimum Safety Factor on Surface: 121.43649272326734\n",
      "At time 0.07s at composite station 3 of 5 at lam 4 of 6\n",
      "Maximum Damage per hr: 5.49180177202293e-16\n",
      "At composite station 3 of 5 at lam 4 of 6\n",
      "\n",
      "\n",
      "UPPER TOWER\n",
      "\n",
      "Minimum Safety Factor on tower Surface: 65.5925637013707\n",
      "At time 0.19s at composite station 7 of 15 at lam 1 of 1\n",
      "Maximum Damage per hr: 1.2296434919040181e-15\n",
      "At composite station 9 of 15 at lam 1 of 1\n",
      "\n",
      "\n",
      "Lower TOWER\n",
      "\n",
      "Minimum Safety Factor on tower Surface: 54.07766052144522\n",
      "At time 0.06s at composite station 2 of 15 at lam 1 of 1\n",
      "Maximum Damage per hr: 4.118785222258201e-15\n",
      "At composite station 9 of 15 at lam 1 of 1\n",
      "WRITING Output File to ./InitialDataOutputs_scripting.out\n",
      "Saving VTK time domain files\n"
     ]
    }
   ],
   "cell_type": "code",
   "source": [
    "    ##########################################\n",
    "    #### Ultimate Failure #####\n",
    "    ##########################################\n",
    "\n",
    "    massOwens,stress_U,SF_ult_U,SF_buck_U,stress_L,SF_ult_L,SF_buck_L,stress_TU,SF_ult_TU,\n",
    "    SF_buck_TU,stress_TL,SF_ult_TL,SF_buck_TL,topstrainout_blade_U,topstrainout_blade_L,\n",
    "    topstrainout_tower_U,topstrainout_tower_L,topDamage_blade_U,\n",
    "    topDamage_blade_L,topDamage_tower_U,topDamage_tower_L = OWENS.extractSF(bld_precompinput,\n",
    "    bld_precompoutput,plyprops_bld,numadIn_bld,lam_U_bld,lam_L_bld,\n",
    "    twr_precompinput,twr_precompoutput,plyprops_twr,numadIn_twr,lam_U_twr,lam_L_twr,\n",
    "    mymesh,myel,myort,number_of_blades,epsilon_x_hist,kappa_y_hist,kappa_z_hist,epsilon_z_hist,\n",
    "    kappa_x_hist,epsilon_y_hist;verbosity, #Verbosity 0:no printing, 1: summary, 2: summary and spanwise worst safety factor\n",
    "    Twr_LE_U_idx=1,Twr_LE_L_idx=1,delta_t,\n",
    "    AD15bldNdIdxRng,AD15bldElIdxRng,strut_precompoutput=nothing)\n",
    "\n",
    "    OWENS.outputData(;mymesh,inputs,t,aziHist,OmegaHist,OmegaDotHist,gbHist,gbDotHist,gbDotDotHist,FReactionHist,genTorque,genPower,torqueDriveShaft,uHist,uHist_prp,epsilon_x_hist,epsilon_y_hist,epsilon_z_hist,kappa_x_hist,kappa_y_hist,kappa_z_hist,FTwrBsHist,massOwens,stress_U,SF_ult_U,SF_buck_U,stress_L,SF_ult_L,SF_buck_L,stress_TU,SF_ult_TU,SF_buck_TU,stress_TL,SF_ult_TL,SF_buck_TL,topstrainout_blade_U,topstrainout_blade_L,topstrainout_tower_U,topstrainout_tower_L,topDamage_blade_U,topDamage_blade_L,topDamage_tower_U,topDamage_tower_L)\n",
    "\n",
    "    OWENS.OWENSVTK(VTKsaveName,t,uHist,system,assembly,sections,aziHist,mymesh,myel,\n",
    "        epsilon_x_hist,epsilon_y_hist,epsilon_z_hist,kappa_x_hist,kappa_y_hist,kappa_z_hist,\n",
    "        FReactionHist,topFexternal_hist;tsave_idx)\n",
    "\n",
    "\n",
    "# end\n",
    "\n",
    "# PyPlot.figure(\"CP2\")\n",
    "# PyPlot.plot(TSRrange,CP,\".-\",color=plot_cycle[2],label=\"OWENS Aero, 1.3 RE_d (No Added Mass)\") #,color=color_cycle[2]\n",
    "# RM2_0_538D_RE_D_1_3E6 = DelimitedFiles.readdlm(\"$(path)/data_RM2/RM2_0.538D_RE_D_1.3E6.csv\", ',',Float64)\n",
    "# PyPlot.plot(RM2_0_538D_RE_D_1_3E6[:,1],RM2_0_538D_RE_D_1_3E6[:,2],\"k-\",label=\"Exp. 1.3e6 RE_d\")\n",
    "# PyPlot.legend()\n",
    "# PyPlot.xlabel(\"TSR\")\n",
    "# PyPlot.ylabel(\"Cp\")\n",
    "\n",
    "nothing"
   ],
   "metadata": {},
   "execution_count": 12
  },
  {
   "cell_type": "markdown",
   "source": [
    "Here we use the automated campbell diagram function to run the modal analysis of the turbine and save the modeshapes to VTK"
   ],
   "metadata": {}
  },
  {
   "outputs": [
    {
     "name": "stdout",
     "output_type": "stream",
     "text": [
      "1 of 2\n",
      "2 of 2\n",
      "Saving Modeshapes to VTK\n"
     ]
    }
   ],
   "cell_type": "code",
   "source": [
    "rotSpdArrayRPM = [0.0, 42.64]\n",
    "\n",
    "FEAinputs = OWENS.FEAModel(;analysisType = \"GX\",\n",
    "dataOutputFilename = \"none\",\n",
    "joint = myjoint,\n",
    "platformTurbineConnectionNodeNumber = 1,\n",
    "pBC,\n",
    "nlOn = false,\n",
    "gravityOn = [0,0,9.81], #positive since the turbine is upside down\n",
    "numNodes = mymesh.numNodes,\n",
    "RayleighAlpha = 0.05,\n",
    "RayleighBeta = 0.05,\n",
    "AddedMass_Coeff_Ca,\n",
    "iterationType = \"DI\")\n",
    "\n",
    "freq2 = OWENS.AutoCampbellDiagram(FEAinputs,mymesh,myel,system,assembly,sections;\n",
    "    rotSpdArrayRPM,\n",
    "    VTKsavename=VTKsaveName,\n",
    "    saveModes = [1,3,5], #must be int\n",
    "    saveRPM = [2], #must be int\n",
    "    mode_scaling = 500.0,\n",
    "    )\n",
    "freqGX = [freq2[:,i] for i=1:2:FEAinputs.numModes-6-2]\n",
    "\n",
    "nothing\n",
    "\n",
    "# Now the Campbell diagram can be generated\n",
    "# NperRevLines = 8\n",
    "# PyPlot.figure()\n",
    "# for i=1:NperRevLines\n",
    "#     linex=[rotSpdArrayRPM[1], rotSpdArrayRPM[end]+5]\n",
    "#     liney=[rotSpdArrayRPM[1], rotSpdArrayRPM[end]+5].*i./60.0\n",
    "#     PyPlot.plot(linex,liney,\"--k\",linewidth=0.5)\n",
    "#     PyPlot.annotate(\"$i P\",xy=(0.95*linex[2],liney[2]+.05+(i-1)*.01))\n",
    "# end\n",
    "# PyPlot.grid()\n",
    "# PyPlot.xlabel(\"Rotor Speed (RPM)\")\n",
    "# PyPlot.ylabel(\"Frequency (Hz)\")\n",
    "# PyPlot.plot(0,0,\"k-\",label=\"Experimental\")\n",
    "# PyPlot.plot(0,0,color=plot_cycle[1],\"-\",label=\"OWENS\")\n",
    "# PyPlot.legend()"
   ],
   "metadata": {},
   "execution_count": 13
  },
  {
   "outputs": [],
   "cell_type": "code",
   "source": [
    "# for i=1:1:FEAinputs.numModes\n",
    "#        PyPlot.plot(rotSpdArrayRPM,freq2[:,i],color=plot_cycle[2],\"-\") #plot mode i at various rotor speeds\n",
    "# end\n",
    "# PyPlot.plot(0,0,color=plot_cycle[2],\"-\",label=\"GXBeam\")\n",
    "# PyPlot.legend(fontsize=8.5,loc = (0.09,0.8),ncol=2,handleheight=1.8, labelspacing=0.03)\n",
    "# PyPlot.ylim([0,40.0])\n",
    "\n",
    "nothing"
   ],
   "metadata": {},
   "execution_count": 14
  },
  {
   "cell_type": "markdown",
   "source": [
    "---\n",
    "\n",
    "*This notebook was generated using [Literate.jl](https://github.com/fredrikekre/Literate.jl).*"
   ],
   "metadata": {}
  }
 ],
 "nbformat_minor": 3,
 "metadata": {
  "language_info": {
   "file_extension": ".jl",
   "mimetype": "application/julia",
   "name": "julia",
   "version": "1.11.4"
  },
  "kernelspec": {
   "name": "julia-1.11",
   "display_name": "Julia 1.11.4",
   "language": "julia"
  }
 },
 "nbformat": 4
}
